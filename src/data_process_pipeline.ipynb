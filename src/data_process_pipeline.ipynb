{
 "cells": [
  {
   "cell_type": "code",
   "execution_count": 127,
   "metadata": {},
   "outputs": [],
   "source": [
    "import pandas as pd\n",
    "import numpy as np\n",
    "import matplotlib.pyplot as plt\n",
    "from scipy.stats import zscore"
   ]
  },
  {
   "cell_type": "markdown",
   "metadata": {},
   "source": [
    "## Load and parse data"
   ]
  },
  {
   "cell_type": "code",
   "execution_count": 128,
   "metadata": {},
   "outputs": [],
   "source": [
    "filename = \"../data/pbc2.csv\"\n",
    "df = pd.read_csv(filename)\n",
    "df.rename(columns = {'status2' : 'label'}, inplace=True)\n",
    "FEATURE_COLUMNS = ['year','serBilir','albumin',\n",
    "             'alkaline', 'SGOT', 'platelets', \n",
    "             'prothrombin']\n",
    "FEATURE_WITHOUT_YEAR = ['serBilir','albumin',\n",
    "             'alkaline', 'SGOT', 'platelets', \n",
    "             'prothrombin']"
   ]
  },
  {
   "cell_type": "code",
   "execution_count": 129,
   "metadata": {},
   "outputs": [
    {
     "data": {
      "text/plain": [
       "<BarContainer object of 15 artists>"
      ]
     },
     "execution_count": 129,
     "metadata": {},
     "output_type": "execute_result"
    },
    {
     "data": {
      "image/png": "[encoded data removed]",
      "text/plain": [
       "<Figure size 640x480 with 1 Axes>"
      ]
     },
     "metadata": {},
     "output_type": "display_data"
    }
   ],
   "source": [
    "l_nb = [(df.id.value_counts() == i).value_counts()[True] for i in range(1,16)]\n",
    "x = np.arange(1,16)\n",
    "fig, ax = plt.subplots()\n",
    "ax.set_xlabel('Lenght of time series')\n",
    "ax.set_ylabel('Number of sequences with specified length')\n",
    "plt.bar(x,l_nb)"
   ]
  },
  {
   "cell_type": "code",
   "execution_count": 135,
   "metadata": {},
   "outputs": [
    {
     "data": {
      "text/plain": [
       "Unnamed: 0        0\n",
       "id                0\n",
       "years             0\n",
       "status            0\n",
       "drug              0\n",
       "age               0\n",
       "sex               0\n",
       "year              0\n",
       "ascites          60\n",
       "hepatomegaly     61\n",
       "spiders          58\n",
       "edema             0\n",
       "serBilir          0\n",
       "serChol         821\n",
       "albumin           0\n",
       "alkaline         60\n",
       "SGOT              0\n",
       "platelets        73\n",
       "prothrombin       0\n",
       "histologic        0\n",
       "label             0\n",
       "dtype: int64"
      ]
     },
     "execution_count": 135,
     "metadata": {},
     "output_type": "execute_result"
    }
   ],
   "source": [
    "df.isna().sum()"
   ]
  },
  {
   "cell_type": "code",
   "execution_count": 123,
   "metadata": {},
   "outputs": [],
   "source": [
    "sequences = []\n",
    "\n",
    "for series_id, group in df.groupby('id'):\n",
    "    sequences_features = group[FEATURE_COLUMNS]\n",
    "    label = group.iloc[0].label\n",
    "    sequences.append([sequences_features, label])"
   ]
  },
  {
   "cell_type": "code",
   "execution_count": 124,
   "metadata": {},
   "outputs": [
    {
     "name": "stdout",
     "output_type": "stream",
     "text": [
      "       year  serBilir  albumin  alkaline   SGOT  platelets  prothrombin\n",
      "0  0.000000      14.5     2.60    1718.0  138.0      190.0         12.2\n",
      "1  0.525682      21.3     2.94    1612.0    6.2      183.0         11.2\n",
      "        year  serBilir  albumin  alkaline   SGOT  platelets  prothrombin\n",
      "0   0.000000       0.0     0.00       0.0    0.0        0.0          0.0\n",
      "1   0.000000       0.0     0.00       0.0    0.0        0.0          0.0\n",
      "2   0.000000       0.0     0.00       0.0    0.0        0.0          0.0\n",
      "3   0.000000       0.0     0.00       0.0    0.0        0.0          0.0\n",
      "4   0.000000       0.0     0.00       0.0    0.0        0.0          0.0\n",
      "5   0.000000       0.0     0.00       0.0    0.0        0.0          0.0\n",
      "6   0.000000       0.0     0.00       0.0    0.0        0.0          0.0\n",
      "7   0.000000       0.0     0.00       0.0    0.0        0.0          0.0\n",
      "8   0.000000       0.0     0.00       0.0    0.0        0.0          0.0\n",
      "9   0.000000       0.0     0.00       0.0    0.0        0.0          0.0\n",
      "10  0.000000       0.0     0.00       0.0    0.0        0.0          0.0\n",
      "11  0.000000       0.0     0.00       0.0    0.0        0.0          0.0\n",
      "12  0.000000       0.0     0.00       0.0    0.0        0.0          0.0\n",
      "13  0.000000       0.0     0.00       0.0    0.0        0.0          0.0\n",
      "0   0.000000      14.5     2.60    1718.0  138.0      190.0         12.2\n",
      "1   0.525682      21.3     2.94    1612.0    6.2      183.0         11.2\n"
     ]
    }
   ],
   "source": [
    "def prepadding_dataframe(df_list, max_len):\n",
    "    df_cols = df_list[0][0].columns.to_list()\n",
    "    print(df_list[0][0])\n",
    "    for i in range(len(df_list)):\n",
    "        padd_length = max_len - len(df_list[i][0]['year'])\n",
    "        padding_df = pd.DataFrame(\n",
    "            0., index=range(padd_length), columns = df_cols)\n",
    "        df_list[i][0] = pd.concat([padding_df, df_list[i][0]])\n",
    "    print(df_list[0][0])\n",
    "\n",
    "prepadding_dataframe(sequences, 16)"
   ]
  }
 ],
 "metadata": {
  "kernelspec": {
   "display_name": "Python 3",
   "language": "python",
   "name": "python3"
  },
  "language_info": {
   "codemirror_mode": {
    "name": "ipython",
    "version": 3
   },
   "file_extension": ".py",
   "mimetype": "text/x-python",
   "name": "python",
   "nbconvert_exporter": "python",
   "pygments_lexer": "ipython3",
   "version": "3.12.2"
  }
 },
 "nbformat": 4,
 "nbformat_minor": 2
}
