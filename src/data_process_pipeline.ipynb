{
 "cells": [
  {
   "cell_type": "code",
   "execution_count": 1,
   "metadata": {},
   "outputs": [
    {
     "name": "stderr",
     "output_type": "stream",
     "text": [
      "2024-06-08 06:31:06.856095: W tensorflow/stream_executor/platform/default/dso_loader.cc:64] Could not load dynamic library 'libcudart.so.11.0'; dlerror: libcudart.so.11.0: cannot open shared object file: No such file or directory\n"
     ]
    }
   ],
   "source": [
    "import pandas as pd\n",
    "import numpy as np\n",
    "import matplotlib.pyplot as plt\n",
    "from scipy.stats import zscore\n",
    "import timesfm\n"
   ]
  },
  {
   "cell_type": "markdown",
   "metadata": {},
   "source": [
    "## Load and parse data"
   ]
  },
  {
   "cell_type": "code",
   "execution_count": 2,
   "metadata": {},
   "outputs": [],
   "source": [
    "filename = \"../data/pbc2.csv\"\n",
    "df = pd.read_csv(filename)\n",
    "df.rename(columns = {'status2' : 'label'}, inplace=True)\n",
    "FEATURE_COLUMNS = ['year','serBilir','albumin',\n",
    "             'alkaline', 'SGOT', 'platelets', \n",
    "             'prothrombin']\n",
    "FEATURE_WITHOUT_YEAR = ['serBilir','albumin',\n",
    "             'alkaline', 'SGOT', 'platelets', \n",
    "             'prothrombin']"
   ]
  },
  {
   "cell_type": "code",
   "execution_count": 3,
   "metadata": {},
   "outputs": [
    {
     "data": {
      "text/plain": [
       "<BarContainer object of 15 artists>"
      ]
     },
     "execution_count": 3,
     "metadata": {},
     "output_type": "execute_result"
    },
    {
     "data": {
      "image/png": "[encoded data removed]",
      "text/plain": [
       "<Figure size 640x480 with 1 Axes>"
      ]
     },
     "metadata": {},
     "output_type": "display_data"
    }
   ],
   "source": [
    "l_nb = [(df.id.value_counts() == i).value_counts()[True] for i in range(1,16)]\n",
    "x = np.arange(1,16)\n",
    "fig, ax = plt.subplots()\n",
    "ax.set_xlabel('Lenght of time series')\n",
    "ax.set_ylabel('Number of sequences with specified length')\n",
    "plt.bar(x,l_nb)"
   ]
  },
  {
   "cell_type": "code",
   "execution_count": 4,
   "metadata": {},
   "outputs": [
    {
     "data": {
      "text/plain": [
       "Unnamed: 0        0\n",
       "id                0\n",
       "years             0\n",
       "status            0\n",
       "drug              0\n",
       "age               0\n",
       "sex               0\n",
       "year              0\n",
       "ascites          60\n",
       "hepatomegaly     61\n",
       "spiders          58\n",
       "edema             0\n",
       "serBilir          0\n",
       "serChol         821\n",
       "albumin           0\n",
       "alkaline         60\n",
       "SGOT              0\n",
       "platelets        73\n",
       "prothrombin       0\n",
       "histologic        0\n",
       "label             0\n",
       "dtype: int64"
      ]
     },
     "execution_count": 4,
     "metadata": {},
     "output_type": "execute_result"
    }
   ],
   "source": [
    "df.isna().sum()"
   ]
  },
  {
   "cell_type": "code",
   "execution_count": 5,
   "metadata": {},
   "outputs": [],
   "source": [
    "sequences = []\n",
    "\n",
    "for series_id, group in df.groupby('id'):\n",
    "    sequences_features = group[FEATURE_COLUMNS]\n",
    "    label = group.iloc[0].label\n",
    "    sequences.append([sequences_features, label])"
   ]
  },
  {
   "cell_type": "code",
   "execution_count": 6,
   "metadata": {},
   "outputs": [],
   "source": [
    "def prepadding_dataframe(df_list, max_len):\n",
    "    df_cols = df_list[0][0].columns.to_list()\n",
    "    for i in range(len(df_list)):\n",
    "        padd_length = max_len - len(df_list[i][0]['year'])\n",
    "        padding_df = pd.DataFrame(\n",
    "            0., index=range(padd_length), columns = df_cols)\n",
    "        df_list[i][0] = pd.concat([padding_df, df_list[i][0]])\n",
    "    return df_list\n",
    "\n",
    "paddeds_df = prepadding_dataframe(sequences, 16)"
   ]
  },
  {
   "cell_type": "code",
   "execution_count": 45,
   "metadata": {},
   "outputs": [
    {
     "data": {
      "text/plain": [
       "year             8.832548\n",
       "serBilir         4.600000\n",
       "albumin          2.670000\n",
       "alkaline       669.000000\n",
       "SGOT            88.000000\n",
       "platelets      100.000000\n",
       "prothrombin     11.500000\n",
       "Name: 10, dtype: float64"
      ]
     },
     "execution_count": 45,
     "metadata": {},
     "output_type": "execute_result"
    }
   ],
   "source": [
    "testing_uknow = paddeds_df[1][0]\n",
    "testing_uknow.iloc[0:15]\n",
    "testing_uknow.iloc[15]"
   ]
  },
  {
   "cell_type": "code",
   "execution_count": 55,
   "metadata": {},
   "outputs": [
    {
     "data": {
      "text/html": [
       "<div>\n",
       "<style scoped>\n",
       "    .dataframe tbody tr th:only-of-type {\n",
       "        vertical-align: middle;\n",
       "    }\n",
       "\n",
       "    .dataframe tbody tr th {\n",
       "        vertical-align: top;\n",
       "    }\n",
       "\n",
       "    .dataframe thead th {\n",
       "        text-align: right;\n",
       "    }\n",
       "</style>\n",
       "<table border=\"1\" class=\"dataframe\">\n",
       "  <thead>\n",
       "    <tr style=\"text-align: right;\">\n",
       "      <th></th>\n",
       "      <th>unique_id</th>\n",
       "      <th>ds</th>\n",
       "      <th>data</th>\n",
       "    </tr>\n",
       "  </thead>\n",
       "  <tbody>\n",
       "    <tr>\n",
       "      <th>0</th>\n",
       "      <td>serBilir</td>\n",
       "      <td>2000-01-01</td>\n",
       "      <td>0.0</td>\n",
       "    </tr>\n",
       "    <tr>\n",
       "      <th>1</th>\n",
       "      <td>serBilir</td>\n",
       "      <td>2000-01-01</td>\n",
       "      <td>0.0</td>\n",
       "    </tr>\n",
       "    <tr>\n",
       "      <th>2</th>\n",
       "      <td>serBilir</td>\n",
       "      <td>2000-01-01</td>\n",
       "      <td>0.0</td>\n",
       "    </tr>\n",
       "    <tr>\n",
       "      <th>3</th>\n",
       "      <td>serBilir</td>\n",
       "      <td>2000-01-01</td>\n",
       "      <td>0.0</td>\n",
       "    </tr>\n",
       "    <tr>\n",
       "      <th>4</th>\n",
       "      <td>serBilir</td>\n",
       "      <td>2000-01-01</td>\n",
       "      <td>0.0</td>\n",
       "    </tr>\n",
       "    <tr>\n",
       "      <th>...</th>\n",
       "      <td>...</td>\n",
       "      <td>...</td>\n",
       "      <td>...</td>\n",
       "    </tr>\n",
       "    <tr>\n",
       "      <th>85</th>\n",
       "      <td>prothrombin</td>\n",
       "      <td>2002-02-01</td>\n",
       "      <td>10.6</td>\n",
       "    </tr>\n",
       "    <tr>\n",
       "      <th>86</th>\n",
       "      <td>prothrombin</td>\n",
       "      <td>2004-11-01</td>\n",
       "      <td>11.3</td>\n",
       "    </tr>\n",
       "    <tr>\n",
       "      <th>87</th>\n",
       "      <td>prothrombin</td>\n",
       "      <td>2005-11-01</td>\n",
       "      <td>11.5</td>\n",
       "    </tr>\n",
       "    <tr>\n",
       "      <th>88</th>\n",
       "      <td>prothrombin</td>\n",
       "      <td>2006-11-01</td>\n",
       "      <td>11.5</td>\n",
       "    </tr>\n",
       "    <tr>\n",
       "      <th>89</th>\n",
       "      <td>prothrombin</td>\n",
       "      <td>2007-11-01</td>\n",
       "      <td>11.5</td>\n",
       "    </tr>\n",
       "  </tbody>\n",
       "</table>\n",
       "<p>90 rows × 3 columns</p>\n",
       "</div>"
      ],
      "text/plain": [
       "      unique_id         ds  data\n",
       "0      serBilir 2000-01-01   0.0\n",
       "1      serBilir 2000-01-01   0.0\n",
       "2      serBilir 2000-01-01   0.0\n",
       "3      serBilir 2000-01-01   0.0\n",
       "4      serBilir 2000-01-01   0.0\n",
       "..          ...        ...   ...\n",
       "85  prothrombin 2002-02-01  10.6\n",
       "86  prothrombin 2004-11-01  11.3\n",
       "87  prothrombin 2005-11-01  11.5\n",
       "88  prothrombin 2006-11-01  11.5\n",
       "89  prothrombin 2007-11-01  11.5\n",
       "\n",
       "[90 rows x 3 columns]"
      ]
     },
     "execution_count": 55,
     "metadata": {},
     "output_type": "execute_result"
    }
   ],
   "source": [
    "import datetime\n",
    "from dateutil.relativedelta import relativedelta\n",
    "formatted = pd.DataFrame(columns=['unique_id','ds','data'])\n",
    "\n",
    "time_array = []\n",
    "id_array = []\n",
    "val_array = []\n",
    "\n",
    "\n",
    "val_names = ['serBilir','albumin','alkaline','SGOT','platelets','prothrombin']\n",
    "for e in val_names:\n",
    "    time_array += testing_uknow['year'].iloc[0:15].to_list()\n",
    "    id_array += 15*[e]\n",
    "    val_array += testing_uknow[e].iloc[0:15].to_list()\n",
    "\n",
    "first_date = pd.to_datetime('2000-01-01')\n",
    "# pd.DateOffset(month=int((time*12)%12))\n",
    "datetime_array = [first_date + relativedelta(months=int(time*12)) for time in time_array]\n",
    "\n",
    "formatted.unique_id = id_array\n",
    "formatted.ds = datetime_array\n",
    "formatted.data = val_array\n",
    "formatted"
   ]
  },
  {
   "cell_type": "code",
   "execution_count": 57,
   "metadata": {},
   "outputs": [
    {
     "name": "stdout",
     "output_type": "stream",
     "text": [
      "Date : 2008-10-01 00:00:00\n",
      "Expected result : year             8.832548\n",
      "serBilir         4.600000\n",
      "albumin          2.670000\n",
      "alkaline       669.000000\n",
      "SGOT            88.000000\n",
      "platelets      100.000000\n",
      "prothrombin     11.500000\n",
      "Name: 10, dtype: float64\n"
     ]
    }
   ],
   "source": [
    "last_date = first_date + relativedelta(months=int(testing_uknow.year.iloc[15]*12))\n",
    "print(f\"Date : {last_date}\")\n",
    "print(f\"Expected result : {testing_uknow.iloc[15]}\")"
   ]
  },
  {
   "cell_type": "code",
   "execution_count": 58,
   "metadata": {},
   "outputs": [
    {
     "name": "stdout",
     "output_type": "stream",
     "text": [
      "Multiprocessing context has already been set.\n"
     ]
    },
    {
     "data": {
      "application/vnd.jupyter.widget-view+json": {
       "model_id": "c9743bfdd33a4f5680800a7edce92d2f",
       "version_major": 2,
       "version_minor": 0
      },
      "text/plain": [
       "Fetching 5 files:   0%|          | 0/5 [00:00<?, ?it/s]"
      ]
     },
     "metadata": {},
     "output_type": "display_data"
    },
    {
     "name": "stdout",
     "output_type": "stream",
     "text": [
      "Constructing model weights.\n"
     ]
    },
    {
     "name": "stderr",
     "output_type": "stream",
     "text": [
      "WARNING:absl:No registered CheckpointArgs found for handler type: <class 'paxml.checkpoints.FlaxCheckpointHandler'>\n",
      "WARNING:absl:Configured `CheckpointManager` using deprecated legacy API. Please follow the instructions at https://orbax.readthedocs.io/en/latest/api_refactor.html to migrate by May 1st, 2024.\n",
      "WARNING:absl:train_state_unpadded_shape_dtype_struct is not provided. We assume `train_state` is unpadded.\n"
     ]
    },
    {
     "name": "stdout",
     "output_type": "stream",
     "text": [
      "Constructed model weights in 3.00 seconds.\n",
      "Restoring checkpoint from /home/leo/.cache/huggingface/hub/models--google--timesfm-1.0-200m/snapshots/8775f7531211ac864b739fe776b0b255c277e2be/checkpoints.\n"
     ]
    },
    {
     "name": "stderr",
     "output_type": "stream",
     "text": [
      "ERROR:absl:For checkpoint version > 1.0, we require users to provide\n",
      "          `train_state_unpadded_shape_dtype_struct` during checkpoint\n",
      "          saving/restoring, to avoid potential silent bugs when loading\n",
      "          checkpoints to incompatible unpadded shapes of TrainState.\n"
     ]
    },
    {
     "name": "stdout",
     "output_type": "stream",
     "text": [
      "Restored checkpoint in 1.23 seconds.\n",
      "Jitting decoding.\n",
      "Jitted decoding in 23.86 seconds.\n",
      "Processing dataframe with multiple processes.\n"
     ]
    },
    {
     "name": "stderr",
     "output_type": "stream",
     "text": [
      "2024-06-08 08:13:50.859242: W tensorflow/stream_executor/platform/default/dso_loader.cc:64] Could not load dynamic library 'libcudart.so.11.0'; dlerror: libcudart.so.11.0: cannot open shared object file: No such file or directory\n",
      "2024-06-08 08:13:50.860434: W tensorflow/stream_executor/platform/default/dso_loader.cc:64] Could not load dynamic library 'libcudart.so.11.0'; dlerror: libcudart.so.11.0: cannot open shared object file: No such file or directory\n",
      "2024-06-08 08:13:50.861015: W tensorflow/stream_executor/platform/default/dso_loader.cc:64] Could not load dynamic library 'libcudart.so.11.0'; dlerror: libcudart.so.11.0: cannot open shared object file: No such file or directory\n",
      "2024-06-08 08:13:50.864769: W tensorflow/stream_executor/platform/default/dso_loader.cc:64] Could not load dynamic library 'libcudart.so.11.0'; dlerror: libcudart.so.11.0: cannot open shared object file: No such file or directory\n",
      "2024-06-08 08:13:50.867224: W tensorflow/stream_executor/platform/default/dso_loader.cc:64] Could not load dynamic library 'libcudart.so.11.0'; dlerror: libcudart.so.11.0: cannot open shared object file: No such file or directory\n",
      "2024-06-08 08:13:50.888598: W tensorflow/stream_executor/platform/default/dso_loader.cc:64] Could not load dynamic library 'libcudart.so.11.0'; dlerror: libcudart.so.11.0: cannot open shared object file: No such file or directory\n"
     ]
    },
    {
     "name": "stdout",
     "output_type": "stream",
     "text": [
      "Finished preprocessing dataframe.\n",
      "Finished forecasting.\n",
      "      unique_id         ds      timesfm  timesfm-q-0.1  timesfm-q-0.2  \\\n",
      "0          SGOT 2007-12-31   120.986664      92.833115     104.983597   \n",
      "1          SGOT 2008-12-31   118.480309      77.462448      94.218117   \n",
      "2          SGOT 2009-12-31   118.663025      71.388428      88.819519   \n",
      "3          SGOT 2010-12-31   115.106453      66.016426      84.942909   \n",
      "4          SGOT 2011-12-31   114.823845      58.315380      79.552475   \n",
      "5          SGOT 2012-12-31   109.710777      50.963646      73.212914   \n",
      "6          SGOT 2013-12-31   105.978905      48.049522      69.761230   \n",
      "7          SGOT 2014-12-31   102.345642      40.335125      62.008549   \n",
      "8          SGOT 2015-12-31   102.028694      39.015759      62.641438   \n",
      "9          SGOT 2016-12-31   101.187149      37.866859      61.695953   \n",
      "10      albumin 2007-12-31     2.872331       2.204067       2.455491   \n",
      "11      albumin 2008-12-31     2.768403       1.843485       2.221689   \n",
      "12      albumin 2009-12-31     2.736160       1.684622       2.094563   \n",
      "13      albumin 2010-12-31     2.675140       1.590155       2.017029   \n",
      "14      albumin 2011-12-31     2.725529       1.485213       1.963512   \n",
      "15      albumin 2012-12-31     2.653865       1.334527       1.826183   \n",
      "16      albumin 2013-12-31     2.541163       1.273987       1.793151   \n",
      "17      albumin 2014-12-31     2.480876       1.118249       1.616514   \n",
      "18      albumin 2015-12-31     2.542538       1.136854       1.686433   \n",
      "19      albumin 2016-12-31     2.596569       1.156965       1.711618   \n",
      "20     alkaline 2007-12-31   759.862366     479.991333     606.397461   \n",
      "21     alkaline 2008-12-31   822.173340     474.533539     607.555786   \n",
      "22     alkaline 2009-12-31   864.881775     386.353638     589.032532   \n",
      "23     alkaline 2010-12-31   887.727661     430.222809     634.927612   \n",
      "24     alkaline 2011-12-31   992.122803     456.157288     663.229309   \n",
      "25     alkaline 2012-12-31   963.919556     364.673920     645.124451   \n",
      "26     alkaline 2013-12-31   929.235046     345.174377     621.576416   \n",
      "27     alkaline 2014-12-31   986.299988     394.243469     616.085388   \n",
      "28     alkaline 2015-12-31  1097.380493     453.928040     705.072449   \n",
      "29     alkaline 2016-12-31  1047.180054     428.568512     655.126709   \n",
      "30    platelets 2007-12-31   113.731773      81.560799      93.143608   \n",
      "31    platelets 2008-12-31   111.783051      68.534409      85.804581   \n",
      "32    platelets 2009-12-31   110.320091      62.200802      80.651443   \n",
      "33    platelets 2010-12-31   108.315521      58.323303      77.678185   \n",
      "34    platelets 2011-12-31   113.075958      57.175858      77.814003   \n",
      "35    platelets 2012-12-31   110.423340      51.230591      73.220840   \n",
      "36    platelets 2013-12-31   105.935898      47.656769      71.386314   \n",
      "37    platelets 2014-12-31   104.572617      42.150826      65.413147   \n",
      "38    platelets 2015-12-31   107.282776      44.723907      68.668930   \n",
      "39    platelets 2016-12-31   110.225983      44.125412      69.379890   \n",
      "40  prothrombin 2007-12-31    12.276648      10.698199      11.298835   \n",
      "41  prothrombin 2008-12-31    12.012300       9.557165      10.669551   \n",
      "42  prothrombin 2009-12-31    12.108450       9.049195      10.274319   \n",
      "43  prothrombin 2010-12-31    11.854521       8.597666      10.069881   \n",
      "44  prothrombin 2011-12-31    12.104518       7.981323       9.638241   \n",
      "45  prothrombin 2012-12-31    11.643650       7.452057       9.205998   \n",
      "46  prothrombin 2013-12-31    11.641457       7.327036       9.123449   \n",
      "47  prothrombin 2014-12-31    11.605017       6.660105       8.482685   \n",
      "48  prothrombin 2015-12-31    11.826348       6.535943       8.612831   \n",
      "49  prothrombin 2016-12-31    11.655689       6.316212       8.461002   \n",
      "50     serBilir 2007-12-31     3.659886       2.617286       2.978910   \n",
      "51     serBilir 2008-12-31     3.648437       2.160548       2.680290   \n",
      "52     serBilir 2009-12-31     3.585243       1.893980       2.482532   \n",
      "53     serBilir 2010-12-31     3.523064       1.623137       2.238309   \n",
      "54     serBilir 2011-12-31     3.536941       1.516336       2.146190   \n",
      "55     serBilir 2012-12-31     3.497029       1.350725       2.009839   \n",
      "56     serBilir 2013-12-31     3.400872       1.240811       1.921409   \n",
      "57     serBilir 2014-12-31     3.338373       1.062296       1.785089   \n",
      "58     serBilir 2015-12-31     3.248745       0.939041       1.695282   \n",
      "59     serBilir 2016-12-31     3.248453       0.916022       1.646064   \n",
      "\n",
      "    timesfm-q-0.3  timesfm-q-0.4  timesfm-q-0.5  timesfm-q-0.6  timesfm-q-0.7  \\\n",
      "0      113.304886     119.072098     120.986664     126.850166     131.733536   \n",
      "1      104.560402     112.237495     118.480309     127.329704     133.125473   \n",
      "2      100.260124     110.916489     118.663025     128.353088     137.315399   \n",
      "3       98.110214     107.261612     115.106453     126.575287     136.077438   \n",
      "4       95.063370     104.755516     114.823845     125.589928     137.684830   \n",
      "5       88.622932     100.144211     109.710777     122.947868     134.148178   \n",
      "6       86.332977      96.289299     105.978905     119.427742     133.082962   \n",
      "7       78.649872      91.922203     102.345642     113.871841     126.366898   \n",
      "8       77.589737      90.530128     102.028694     113.892441     127.375473   \n",
      "9       77.828468      88.490753     101.187149     114.674721     128.597366   \n",
      "10       2.680728       2.814660       2.872331       2.976743       3.117980   \n",
      "11       2.449457       2.601976       2.768403       2.977900       3.131796   \n",
      "12       2.337601       2.547589       2.736160       2.935654       3.145196   \n",
      "13       2.287657       2.475221       2.675140       2.935139       3.155382   \n",
      "14       2.290216       2.503603       2.725529       2.950206       3.227166   \n",
      "15       2.154182       2.426651       2.653865       2.894112       3.152082   \n",
      "16       2.132007       2.342018       2.541163       2.839360       3.143838   \n",
      "17       1.991789       2.252929       2.480876       2.745556       3.024691   \n",
      "18       2.017598       2.304543       2.542538       2.822256       3.129123   \n",
      "19       2.071899       2.306406       2.596569       2.901998       3.206835   \n",
      "20     690.059570     745.474182     759.862366     812.311707     909.766846   \n",
      "21     679.365540     737.488037     822.173340     916.705872    1050.173950   \n",
      "22     664.879639     758.040894     864.881775     918.260803    1041.731201   \n",
      "23     697.804382     808.470337     887.727661    1015.735229    1142.493408   \n",
      "24     773.073792     873.504028     992.122803    1124.503662    1242.646362   \n",
      "25     740.582886     860.707581     963.919556    1042.803101    1198.272339   \n",
      "26     705.555298     829.686279     929.235046    1059.551270    1201.990479   \n",
      "27     769.619263     898.025635     986.299988    1093.643311    1260.760376   \n",
      "28     809.387634     973.665222    1097.380493    1228.310059    1365.626099   \n",
      "29     790.756470     912.910522    1047.180054    1214.686768    1356.124146   \n",
      "30     104.374680     110.444283     113.731773     118.677879     125.666588   \n",
      "31      95.359734     103.456566     111.783051     120.360031     128.684418   \n",
      "32      91.448898     101.171371     110.320091     118.059914     128.923904   \n",
      "33      89.627197      99.012657     108.315521     118.912285     130.111160   \n",
      "34      92.258186     102.578140     113.075958     123.505173     135.775345   \n",
      "35      86.609291      98.879822     110.423340     120.976135     133.476288   \n",
      "36      85.131012      96.496864     105.935898     119.009399     133.121170   \n",
      "37      80.999878      92.908653     104.572617     116.348686     129.524857   \n",
      "38      83.547646      96.427399     107.282776     121.056961     135.514267   \n",
      "39      85.551445      96.203224     110.225983     124.202759     137.879456   \n",
      "40      11.851683      12.251906      12.276648      12.590805      12.820601   \n",
      "41      11.283106      11.688708      12.012300      12.518452      12.790368   \n",
      "42      10.898031      11.600403      12.108450      12.718680      13.059778   \n",
      "43      10.846073      11.490053      11.854521      12.624167      13.124314   \n",
      "44      10.763600      11.461968      12.104518      12.629261      13.484154   \n",
      "45      10.225878      11.136204      11.643650      12.610596      13.185626   \n",
      "46      10.391570      11.105268      11.641457      12.551141      13.606241   \n",
      "47       9.754807      10.743593      11.605017      12.331519      13.272261   \n",
      "48       9.762002      10.946418      11.826348      12.560949      13.586652   \n",
      "49       9.803822      10.667143      11.655689      12.796354      13.784935   \n",
      "50       3.264127       3.417874       3.659886       3.848904       4.042489   \n",
      "51       3.017308       3.329796       3.648437       3.889874       4.210004   \n",
      "52       2.844514       3.199062       3.585243       3.966441       4.331824   \n",
      "53       2.698640       3.099605       3.523064       3.937019       4.405507   \n",
      "54       2.652089       3.134381       3.536941       4.035527       4.577840   \n",
      "55       2.526303       2.976105       3.497029       3.981304       4.574314   \n",
      "56       2.483836       2.919954       3.400872       3.976645       4.605472   \n",
      "57       2.329098       2.843048       3.338373       3.918074       4.519204   \n",
      "58       2.194062       2.711564       3.248745       3.799475       4.498131   \n",
      "59       2.157926       2.691544       3.248453       3.819724       4.515474   \n",
      "\n",
      "    timesfm-q-0.8  timesfm-q-0.9  \n",
      "0      139.502151     148.074646  \n",
      "1      141.920227     158.781738  \n",
      "2      148.980255     166.813873  \n",
      "3      149.272995     172.333847  \n",
      "4      152.344055     178.084885  \n",
      "5      151.084473     181.951813  \n",
      "6      149.973007     183.396088  \n",
      "7      144.410141     178.764160  \n",
      "8      146.776749     182.047516  \n",
      "9      149.610611     184.063492  \n",
      "10       3.310169       3.557186  \n",
      "11       3.323643       3.749930  \n",
      "12       3.394580       3.862056  \n",
      "13       3.440998       3.988734  \n",
      "14       3.546674       4.176424  \n",
      "15       3.535063       4.227092  \n",
      "16       3.513840       4.266720  \n",
      "17       3.405227       4.182930  \n",
      "18       3.521637       4.297107  \n",
      "19       3.653971       4.460574  \n",
      "20    1047.230103    1275.402466  \n",
      "21    1139.629028    1468.596924  \n",
      "22    1201.718384    1567.504150  \n",
      "23    1331.996582    1720.328369  \n",
      "24    1450.330933    1906.651001  \n",
      "25    1426.018066    1890.102295  \n",
      "26    1404.048096    1890.885254  \n",
      "27    1455.781616    1955.665649  \n",
      "28    1617.732422    2109.004395  \n",
      "29    1623.713623    2178.566895  \n",
      "30     135.863785     149.425125  \n",
      "31     138.761902     159.524612  \n",
      "32     140.928528     164.105621  \n",
      "33     143.809799     170.350601  \n",
      "34     151.195831     182.499680  \n",
      "35     151.438293     183.915222  \n",
      "36     150.956848     186.134521  \n",
      "37     147.781204     183.932983  \n",
      "38     154.648712     190.926437  \n",
      "39     158.815002     197.810822  \n",
      "40      13.179490      13.601586  \n",
      "41      13.209339      14.205090  \n",
      "42      13.778137      14.739416  \n",
      "43      13.879176      15.187368  \n",
      "44      14.283425      15.959714  \n",
      "45      14.337653      16.397375  \n",
      "46      14.681607      16.884901  \n",
      "47      14.395127      16.716450  \n",
      "48      14.974940      17.359604  \n",
      "49      15.204438      17.811626  \n",
      "50       4.301220       4.653974  \n",
      "51       4.555512       5.158731  \n",
      "52       4.840400       5.569415  \n",
      "53       4.991801       5.849098  \n",
      "54       5.219681       6.234680  \n",
      "55       5.264900       6.373771  \n",
      "56       5.352616       6.541270  \n",
      "57       5.396131       6.601751  \n",
      "58       5.305717       6.741115  \n",
      "59       5.387050       6.848266  \n"
     ]
    },
    {
     "name": "stderr",
     "output_type": "stream",
     "text": [
      "/home/leo/miniconda3/envs/tfm_env/lib/python3.10/site-packages/utilsforecast/processing.py:374: FutureWarning: 'Y' is deprecated and will be removed in a future version, please use 'YE' instead.\n",
      "  freq = pd.tseries.frequencies.to_offset(freq)\n",
      "/home/leo/miniconda3/envs/tfm_env/lib/python3.10/site-packages/utilsforecast/processing.py:428: FutureWarning: 'Y' is deprecated and will be removed in a future version, please use 'YE' instead.\n",
      "  freq = pd.tseries.frequencies.to_offset(freq)\n"
     ]
    }
   ],
   "source": [
    "import timesfm\n",
    "\n",
    "tfm = timesfm.TimesFm(\n",
    "    context_len=32,\n",
    "    horizon_len=10,\n",
    "    input_patch_len=32,\n",
    "    output_patch_len=128,\n",
    "    num_layers=20,\n",
    "    model_dims=1280,\n",
    "    backend='cpu',\n",
    ")\n",
    "tfm.load_from_checkpoint(repo_id=\"google/timesfm-1.0-200m\")\n",
    "forecast_df = tfm.forecast_on_df(\n",
    "    inputs=formatted,\n",
    "    freq=\"Y\",\n",
    "    value_name=\"data\",\n",
    "    num_jobs=-1,\n",
    ")\n",
    "print(forecast_df)"
   ]
  }
 ],
 "metadata": {
  "kernelspec": {
   "display_name": "Python 3",
   "language": "python",
   "name": "python3"
  },
  "language_info": {
   "codemirror_mode": {
    "name": "ipython",
    "version": 3
   },
   "file_extension": ".py",
   "mimetype": "text/x-python",
   "name": "python",
   "nbconvert_exporter": "python",
   "pygments_lexer": "ipython3",
   "version": "3.10.14"
  }
 },
 "nbformat": 4,
 "nbformat_minor": 2
}
