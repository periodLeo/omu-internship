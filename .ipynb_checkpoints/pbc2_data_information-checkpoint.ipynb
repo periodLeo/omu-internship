{
 "cells": [
  {
   "cell_type": "code",
   "execution_count": 42,
   "id": "34ec268e-3272-4989-b957-fded107b7877",
   "metadata": {},
   "outputs": [],
   "source": [
    "import pandas as pd\n",
    "import matplotlib.pyplot as plt"
   ]
  },
  {
   "cell_type": "code",
   "execution_count": 43,
   "id": "06545489-f9c5-4f68-bb7a-0e259b79da92",
   "metadata": {},
   "outputs": [],
   "source": [
    "pbcFilename = \"pbc2.csv\"\n",
    "df = pd.read_csv(pbcFilename, index_col = 0)"
   ]
  },
  {
   "cell_type": "code",
   "execution_count": 44,
   "id": "c14a9a60-33e3-427c-9800-a924dd721eb2",
   "metadata": {
    "scrolled": true
   },
   "outputs": [
    {
     "name": "stdout",
     "output_type": "stream",
     "text": [
      "Index(['id', 'years', 'status', 'drug', 'age', 'sex', 'year', 'ascites',\n",
      "       'hepatomegaly', 'spiders', 'edema', 'serBilir', 'serChol', 'albumin',\n",
      "       'alkaline', 'SGOT', 'platelets', 'prothrombin', 'histologic',\n",
      "       'status2'],\n",
      "      dtype='object')\n"
     ]
    }
   ],
   "source": [
    "print(df.columns)"
   ]
  },
  {
   "cell_type": "code",
   "execution_count": 45,
   "id": "dbea6128-1bcd-4a64-a0dd-0c2470d5bc7a",
   "metadata": {},
   "outputs": [
    {
     "name": "stdout",
     "output_type": "stream",
     "text": [
      "Number of patients : 312\n"
     ]
    }
   ],
   "source": [
    "# Create a list of DF where each DF is data of ONE patient\n",
    "grouped = df.groupby('id')\n",
    "df_list = [group_data for _, group_data in grouped]\n",
    "\n",
    "print(f\"Number of patients : {len(df_list)}\")"
   ]
  },
  {
   "cell_type": "code",
   "execution_count": 46,
   "id": "b9f747a7-004e-4eab-a46c-011424d13e2f",
   "metadata": {
    "scrolled": true
   },
   "outputs": [
    {
     "name": "stdout",
     "output_type": "stream",
     "text": [
      "dead\n"
     ]
    },
    {
     "data": {
      "image/png": "[encoded data removed]",
      "text/plain": [
       "<Figure size 640x480 with 1 Axes>"
      ]
     },
     "metadata": {},
     "output_type": "display_data"
    }
   ],
   "source": [
    "da_id = 2\n",
    "\n",
    "plt.plot(df_list[da_id][\"year\"], df_list[da_id][\"platelets\"])\n",
    "print(df_list[da_id][\"status\"].iloc[0])"
   ]
  },
  {
   "cell_type": "code",
   "execution_count": 62,
   "id": "57b47325-7c82-4801-93c0-3831090b1b8d",
   "metadata": {
    "scrolled": true
   },
   "outputs": [
    {
     "data": {
      "text/plain": [
       "[172, 140]"
      ]
     },
     "execution_count": 62,
     "metadata": {},
     "output_type": "execute_result"
    }
   ],
   "source": [
    "def get_status_ratio(listOfPatientsDf: pd.DataFrame) -> list[int]:\n",
    "    \"\"\"\n",
    "    Return a 2-lenght list with number of dead and alive person on pbc2 dataset\n",
    "\n",
    "    Parameters :\n",
    "        - listOfPatientsDf -> list[pandas.DataFrame] : pbc2 dataframe grouped by patients id\n",
    "    Returns :\n",
    "        - list[int] : list[0] == total alive patients; list[1] == total dead patients\n",
    "    \"\"\"\n",
    "    \n",
    "    nb_alive = sum(df[\"status2\"].iloc[0] == 0 for df in listOfPatientsDf)\n",
    "    nb_dead = sum(df[\"status2\"].iloc[0] == 1 for df in listOfPatientsDf)\n",
    "                \n",
    "    return [nb_alive, nb_dead]\n",
    "\n",
    "get_status_ratio(df_list)"
   ]
  },
  {
   "cell_type": "code",
   "execution_count": 61,
   "id": "397223bc-e43a-4276-9ae4-599340828c80",
   "metadata": {},
   "outputs": [
    {
     "name": "stdout",
     "output_type": "stream",
     "text": [
      "Average time between each sample : 0.891 year.\n",
      "\tEquivalent of 10.7 months or 325 days.\n",
      "Sample rate : 1.12 entries per Year.\n"
     ]
    }
   ],
   "source": [
    "n_iter: int = 0\n",
    "total_time: float = 0.0\n",
    "\n",
    "for df in df_list:\n",
    "    for i in range((len(df)-1)):\n",
    "        n_iter += 1\n",
    "        total_time += df[\"year\"].iloc[i+1] - df[\"year\"].iloc[i]\n",
    "\n",
    "average_time: float = round(total_time / n_iter, 3)\n",
    "print(f\"Average time between each sample : {average_time} year.\")\n",
    "print(f\"\\tEquivalent of {round(average_time * 12, 1)} months or {int(average_time * 365)} days.\")\n",
    "print(f\"Sample rate : {round(1/average_time, 2)} entries per Year.\")"
   ]
  }
 ],
 "metadata": {
  "kernelspec": {
   "display_name": "Python 3 (ipykernel)",
   "language": "python",
   "name": "python3"
  },
  "language_info": {
   "codemirror_mode": {
    "name": "ipython",
    "version": 3
   },
   "file_extension": ".py",
   "mimetype": "text/x-python",
   "name": "python",
   "nbconvert_exporter": "python",
   "pygments_lexer": "ipython3",
   "version": "3.12.2"
  }
 },
 "nbformat": 4,
 "nbformat_minor": 5
}
